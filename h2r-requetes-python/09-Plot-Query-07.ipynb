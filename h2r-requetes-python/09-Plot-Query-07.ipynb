{
 "cells": [
  {
   "cell_type": "markdown",
   "id": "bfdf344b-c7a4-4c20-8400-6c1084058e1a",
   "metadata": {
    "tags": []
   },
   "source": [
    "## Notebook : Plot-Query-04\n",
    "#### Auteur : N. LETEURTRE\n",
    "#### Date : Mars 2025\n",
    "#### Formation : BUT Info, SAE204\n",
    "------"
   ]
  },
  {
   "cell_type": "markdown",
   "id": "c93c23b6-d963-4f45-96a2-6d8853925d72",
   "metadata": {
    "tags": []
   },
   "source": [
    "#### Objectif\n",
    "\n",
    "Prix moyen d'un séjour (taxe comprise) d'un hotel donné sur l'année 2019"
   ]
  },
  {
   "cell_type": "markdown",
   "id": "8dce2578-abef-437f-b5e0-b250f2ac40d1",
   "metadata": {
    "tags": []
   },
   "source": [
    "#### Import des composants pour la connexion à la base de données"
   ]
  },
  {
   "cell_type": "code",
   "execution_count": 1,
   "id": "a29d589e-1fbb-4701-83b9-10102c1fbdc5",
   "metadata": {
    "tags": []
   },
   "outputs": [],
   "source": [
    "import cx_Oracle\n",
    "import db_config"
   ]
  },
  {
   "cell_type": "markdown",
   "id": "2803cf23-0edd-48a3-b04b-f77a80f3232d",
   "metadata": {},
   "source": [
    "#### Création de la connexion à la BD SAE204"
   ]
  },
  {
   "cell_type": "code",
   "execution_count": 2,
   "id": "8dcb97a0-0af5-49d3-b1e7-8666ee552b63",
   "metadata": {},
   "outputs": [],
   "source": [
    "vconnect = cx_Oracle.connect(db_config.user,db_config.pwd,db_config.dsn)"
   ]
  },
  {
   "cell_type": "markdown",
   "id": "df7e0888-36fb-4841-91c2-2b695b7302ae",
   "metadata": {},
   "source": [
    "#### Requête"
   ]
  },
  {
   "cell_type": "markdown",
   "id": "a62ccb8e-0612-4b46-b5b8-a9e5039877e3",
   "metadata": {},
   "source": [
    "##### Nombre de réservation par chambre de chaque hôtel"
   ]
  },
  {
   "cell_type": "code",
   "execution_count": 7,
   "id": "ae80de9e-ee4e-4324-b4c3-50e84a623728",
   "metadata": {
    "tags": []
   },
   "outputs": [],
   "source": [
    "query = \"\"\"\n",
    "        SELECT C.NUMERO AS \"Chambres\", AVG(RG.TOTAL) AS \"Prix moyen d'un séjour\"\n",
    "        FROM RESERVATION_CHAMBRE RC\n",
    "        JOIN CHAMBRE C ON RC.CHAMBRE = C.ID_CHAMBRE\n",
    "        JOIN REGLEMENT RG ON RC.RESERVATION = RG.RESERVATION\n",
    "        WHERE C.HOTEL = :v_id_hotel\n",
    "        GROUP BY C.NUMERO\n",
    "        ORDER BY C.NUMERO\n",
    "        \"\"\""
   ]
  },
  {
   "cell_type": "markdown",
   "id": "b6bd22ef-a1f0-4854-b908-c649237d542d",
   "metadata": {},
   "source": [
    "#### Execution de la requête"
   ]
  },
  {
   "cell_type": "code",
   "execution_count": 8,
   "id": "2d754948-83c7-4774-9231-f42f50a43df9",
   "metadata": {},
   "outputs": [
    {
     "data": {
      "text/plain": [
       "<cx_Oracle.Cursor on <cx_Oracle.Connection to nleteurt@193.48.38.244:80/SAE204>>"
      ]
     },
     "execution_count": 8,
     "metadata": {},
     "output_type": "execute_result"
    }
   ],
   "source": [
    "vcursor = vconnect.cursor()\n",
    "id = 3\n",
    "vcursor.execute(query, v_id_hotel = id)"
   ]
  },
  {
   "cell_type": "markdown",
   "id": "bee3f082-90c3-4c2d-af0c-8043053d9a79",
   "metadata": {},
   "source": [
    "#### Dictionnaire des colonnes du résultat de la requête"
   ]
  },
  {
   "cell_type": "code",
   "execution_count": 9,
   "id": "5944c30a-8d50-4731-a525-51797a3b88ea",
   "metadata": {},
   "outputs": [],
   "source": [
    "columns_info = vcursor.description"
   ]
  },
  {
   "cell_type": "markdown",
   "id": "edad59d6-8c03-4ea6-8d29-f1107371ae75",
   "metadata": {},
   "source": [
    "#### Import de la librairie ```matplotlib``` et l'interface pyplot\n",
    "##### Pour plus d'informations :https//matplotlib.org/"
   ]
  },
  {
   "cell_type": "code",
   "execution_count": 10,
   "id": "1fcc1866-74c2-4734-9cd3-61fb573091f9",
   "metadata": {},
   "outputs": [
    {
     "name": "stdout",
     "output_type": "stream",
     "text": [
      "Requirement already satisfied: matplotlib in /opt/conda/lib/python3.9/site-packages (3.9.4)\n",
      "Requirement already satisfied: packaging>=20.0 in /opt/conda/lib/python3.9/site-packages (from matplotlib) (21.3)\n",
      "Requirement already satisfied: pyparsing>=2.3.1 in /opt/conda/lib/python3.9/site-packages (from matplotlib) (3.0.6)\n",
      "Requirement already satisfied: importlib-resources>=3.2.0 in /opt/conda/lib/python3.9/site-packages (from matplotlib) (5.4.0)\n",
      "Requirement already satisfied: numpy>=1.23 in /opt/conda/lib/python3.9/site-packages (from matplotlib) (2.0.2)\n",
      "Requirement already satisfied: python-dateutil>=2.7 in /opt/conda/lib/python3.9/site-packages (from matplotlib) (2.8.2)\n",
      "Requirement already satisfied: pillow>=8 in /opt/conda/lib/python3.9/site-packages (from matplotlib) (11.1.0)\n",
      "Requirement already satisfied: kiwisolver>=1.3.1 in /opt/conda/lib/python3.9/site-packages (from matplotlib) (1.4.7)\n",
      "Requirement already satisfied: cycler>=0.10 in /opt/conda/lib/python3.9/site-packages (from matplotlib) (0.12.1)\n",
      "Requirement already satisfied: fonttools>=4.22.0 in /opt/conda/lib/python3.9/site-packages (from matplotlib) (4.56.0)\n",
      "Requirement already satisfied: contourpy>=1.0.1 in /opt/conda/lib/python3.9/site-packages (from matplotlib) (1.3.0)\n",
      "Requirement already satisfied: zipp>=3.1.0 in /opt/conda/lib/python3.9/site-packages (from importlib-resources>=3.2.0->matplotlib) (3.7.0)\n",
      "Requirement already satisfied: six>=1.5 in /opt/conda/lib/python3.9/site-packages (from python-dateutil>=2.7->matplotlib) (1.16.0)\n"
     ]
    },
    {
     "name": "stderr",
     "output_type": "stream",
     "text": [
      "/opt/conda/lib/python3.9/site-packages/numpy/_core/getlimits.py:545: UserWarning: Signature b'\\x00\\xd0\\xcc\\xcc\\xcc\\xcc\\xcc\\xcc\\xfb\\xbf\\x00\\x00\\x00\\x00\\x00\\x00' for <class 'numpy.longdouble'> does not match any known type: falling back to type probe function.\n",
      "This warnings indicates broken support for the dtype!\n",
      "  machar = _get_machar(dtype)\n"
     ]
    }
   ],
   "source": [
    "!pip install matplotlib\n",
    "import matplotlib.pyplot as plot"
   ]
  },
  {
   "cell_type": "markdown",
   "id": "82413dcc-b5e5-4113-8961-fa6cee09808d",
   "metadata": {
    "tags": []
   },
   "source": [
    "#### Visualisation du résultat de la requête<br>\n",
    "\n",
    "##### Extraction ded données des axes X et Y"
   ]
  },
  {
   "cell_type": "code",
   "execution_count": 11,
   "id": "a462c6ba-29f2-4c99-ac77-6a21e335df93",
   "metadata": {},
   "outputs": [],
   "source": [
    "x_data = []\n",
    "y_data = []\n",
    "\n",
    "data = vcursor.fetchall()\n",
    "for row in data:\n",
    "    x_data.append(row[0])\n",
    "    y_data.append(row[1])"
   ]
  },
  {
   "cell_type": "markdown",
   "id": "30a65ccc-a192-48bc-9d6e-c802e541cbfb",
   "metadata": {},
   "source": [
    "#### Création et configuration de la visualisation"
   ]
  },
  {
   "cell_type": "code",
   "execution_count": 13,
   "id": "1bdb0921-1be6-4152-94d0-21a630007f31",
   "metadata": {},
   "outputs": [
    {
     "data": {
      "image/png": "[encoded data removed]",
      "text/plain": [
       "<Figure size 1080x1080 with 1 Axes>"
      ]
     },
     "metadata": {
      "needs_background": "light"
     },
     "output_type": "display_data"
    }
   ],
   "source": [
    "#figure = plot.figure()\n",
    "plot.figure()\n",
    "\n",
    "plot.rcParams[\"figure.figsize\"] = [15,4]\n",
    "#plt.rcParams[\"figure.autolayout\"] = True\n",
    "\n",
    "#axis = figure.add_subplot(111)\n",
    "plot.subplot(111)\n",
    "plot.ylim(min(y_data)-10, max(y_data)+5)\n",
    "plot.bar(x_data, y_data)\n",
    "#plt.xticks(x_data)\n",
    "\n",
    "plot.grid(True)\n",
    "plot.xlabel(columns_info[0][0])\n",
    "plot.ylabel(columns_info[1][0])\n",
    "plot.suptitle(\"Nombre de réservation par chambre de l'hôtel %s durant l'année 2019\"%(id))\n",
    "plot.show() "
   ]
  },
  {
   "cell_type": "markdown",
   "id": "23441d12-f7fd-4e23-8faf-fd3fcebb594d",
   "metadata": {},
   "source": [
    "#### Pour stopper la connexion (obligatoire)"
   ]
  },
  {
   "cell_type": "code",
   "execution_count": 14,
   "id": "75e8dbf0-ff7d-48fa-8c05-077be921bd5e",
   "metadata": {},
   "outputs": [],
   "source": [
    "vcursor.close()\n",
    "vconnect.close()"
   ]
  }
 ],
 "metadata": {
  "kernelspec": {
   "display_name": "Python 3 (ipykernel)",
   "language": "python",
   "name": "python3"
  },
  "language_info": {
   "codemirror_mode": {
    "name": "ipython",
    "version": 3
   },
   "file_extension": ".py",
   "mimetype": "text/x-python",
   "name": "python",
   "nbconvert_exporter": "python",
   "pygments_lexer": "ipython3",
   "version": "3.9.7"
  }
 },
 "nbformat": 4,
 "nbformat_minor": 5
}
